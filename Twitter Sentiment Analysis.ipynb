{
 "cells": [
  {
   "cell_type": "code",
   "execution_count": 1,
   "metadata": {},
   "outputs": [],
   "source": [
    "import matplotlib.pyplot as plt\n",
    "import numpy as np"
   ]
  },
  {
   "cell_type": "code",
   "execution_count": 12,
   "metadata": {},
   "outputs": [],
   "source": [
    "data=np.array([[1,1],[1,-1],[2,1],[2,-1],[4,0],[5,1],[5,-1],[6,0]])\n",
    "x,y=data.T\n",
    "# p2=np.array([1,-1])\n",
    "# p3=np.array([2,1])\n",
    "# p4=np.array([2,-1])\n",
    "# p5=np.array([4,0])\n",
    "# p6=np.array([5,1])\n",
    "# p7=np.array([5,-1])\n",
    "# p8=np.array([6,0])\n",
    "# a=[p1,p2,p3,p4,p5,p6,p7,p8]"
   ]
  },
  {
   "cell_type": "code",
   "execution_count": 18,
   "metadata": {},
   "outputs": [
    {
     "data": {
      "text/plain": [
       "[<matplotlib.lines.Line2D at 0x205e9d9ea58>,\n",
       " <matplotlib.lines.Line2D at 0x205e9d9e518>]"
      ]
     },
     "execution_count": 18,
     "metadata": {},
     "output_type": "execute_result"
    },
    {
     "data": {
      "image/png": "[encoded data removed]",
      "text/plain": [
       "<Figure size 432x288 with 1 Axes>"
      ]
     },
     "metadata": {
      "needs_background": "light"
     },
     "output_type": "display_data"
    }
   ],
   "source": [
    "plt.plot(data)"
   ]
  },
  {
   "cell_type": "code",
   "execution_count": null,
   "metadata": {},
   "outputs": [],
   "source": [
    "UlxU6Dg1FCEpOInamwv5FswCr (API key)\n",
    "\n",
    "mz1ASfwAP4gRtiDYMUjQ4TllqJUpdzkf5KpoSZLuOGd5JO4HYl (API secret key)\n",
    "\n",
    "Regenerate\n",
    "Access token & access token secret\n",
    "87964616-Hjj3ERmp0feYVxVSQvycz4CqXPpmeTW7SgaXHjKuo (Access token)NEW\n",
    "\n",
    "rJ70SakyTyMpDLUZURsMqgtsZuV3K0Ee5gEajTCJDrlz3 (Access "
   ]
  },
  {
   "cell_type": "code",
   "execution_count": 2,
   "metadata": {},
   "outputs": [],
   "source": [
    "from textblob import TextBlob\n",
    "import tweepy\n",
    "import re\n",
    "import jsonpickle\n",
    "import pandas as pd"
   ]
  },
  {
   "cell_type": "code",
   "execution_count": 4,
   "metadata": {},
   "outputs": [],
   "source": [
    "def twitter_authorise():\n",
    "    auth=tweepy.OAuthHandler(consumer_key,consumer_secret)\n",
    "    auth.set_access_token(access_token,access_secret)\n",
    "    api=tweepy.API(auth)\n",
    "    return api\n",
    "api=twitter_authorise()"
   ]
  },
  {
   "cell_type": "code",
   "execution_count": 5,
   "metadata": {},
   "outputs": [],
   "source": [
    "tweetcount=0\n",
    "text=[]\n",
    "day=[]\n",
    "month=[]\n",
    "weekday=[]\n",
    "user=[]"
   ]
  },
  {
   "cell_type": "code",
   "execution_count": 6,
   "metadata": {},
   "outputs": [
    {
     "name": "stdout",
     "output_type": "stream",
     "text": [
      "Have around 10 tweets\n"
     ]
    }
   ],
   "source": [
    "for tweets_info in tweepy.Cursor(api.search,q='#marvel',lang='en').items(10): \n",
    "    tweetcount+=1\n",
    "print('Have around {0} tweets'.format(tweetcount))"
   ]
  },
  {
   "cell_type": "code",
   "execution_count": 17,
   "metadata": {},
   "outputs": [
    {
     "name": "stdout",
     "output_type": "stream",
     "text": [
      "C:\\Users\\Administrator\n"
     ]
    }
   ],
   "source": [
    "import os\n",
    "os.chdir('C:/Users/Administrator')\n",
    "print(os.getcwd())\n",
    "filepath='C:/Users/Administrator/Desktop/tweets.json'\n",
    "with open(filepath,'w') as f:\n",
    "    for tweets_info in tweepy.Cursor(api.search,q='#marvel',lang='en').items(1000): \n",
    "        f.write(jsonpickle.encode(tweets_info._json,unpicklable=False)+ '\\n')"
   ]
  },
  {
   "cell_type": "code",
   "execution_count": 7,
   "metadata": {},
   "outputs": [],
   "source": [
    "filepath='C:/Users/Administrator/Desktop/tweets.json'\n",
    "tweets=list(open(filepath,'rt'))\n",
    "for t in tweets:\n",
    "    t=jsonpickle.decode(t)\n",
    "    text.append(t['text'])\n",
    "    day.append(t['created_at'].split(' ')[2])\n",
    "    month.append(t['created_at'].split(' ')[1])\n",
    "    weekday.append(t['created_at'].split(' ')[0])\n",
    "    user.append(t['user']['screen_name'])\n",
    "    d={'text':text,'day':day,'month':month,'weekday':weekday,'user':user}"
   ]
  },
  {
   "cell_type": "code",
   "execution_count": 10,
   "metadata": {},
   "outputs": [
    {
     "data": {
      "text/html": [
       "<div>\n",
       "<style scoped>\n",
       "    .dataframe tbody tr th:only-of-type {\n",
       "        vertical-align: middle;\n",
       "    }\n",
       "\n",
       "    .dataframe tbody tr th {\n",
       "        vertical-align: top;\n",
       "    }\n",
       "\n",
       "    .dataframe thead th {\n",
       "        text-align: right;\n",
       "    }\n",
       "</style>\n",
       "<table border=\"1\" class=\"dataframe\">\n",
       "  <thead>\n",
       "    <tr style=\"text-align: right;\">\n",
       "      <th></th>\n",
       "      <th>text</th>\n",
       "      <th>day</th>\n",
       "      <th>month</th>\n",
       "      <th>weekday</th>\n",
       "      <th>user</th>\n",
       "    </tr>\n",
       "  </thead>\n",
       "  <tbody>\n",
       "    <tr>\n",
       "      <th>0</th>\n",
       "      <td>RT @FunkoEurope: Giveaway time! 🎉 Want to win ...</td>\n",
       "      <td>02</td>\n",
       "      <td>Feb</td>\n",
       "      <td>Sat</td>\n",
       "      <td>MrsHobson3</td>\n",
       "    </tr>\n",
       "    <tr>\n",
       "      <th>1</th>\n",
       "      <td>RT @DiamondSpiderP: I just want to put this co...</td>\n",
       "      <td>02</td>\n",
       "      <td>Feb</td>\n",
       "      <td>Sat</td>\n",
       "      <td>SSPPUDD</td>\n",
       "    </tr>\n",
       "    <tr>\n",
       "      <th>2</th>\n",
       "      <td>RT @DiamondSpiderP: I just want to put this co...</td>\n",
       "      <td>02</td>\n",
       "      <td>Feb</td>\n",
       "      <td>Sat</td>\n",
       "      <td>Tanner_Slavin</td>\n",
       "    </tr>\n",
       "    <tr>\n",
       "      <th>3</th>\n",
       "      <td>I just want to put this concept out there agai...</td>\n",
       "      <td>02</td>\n",
       "      <td>Feb</td>\n",
       "      <td>Sat</td>\n",
       "      <td>DiamondSpiderP</td>\n",
       "    </tr>\n",
       "    <tr>\n",
       "      <th>4</th>\n",
       "      <td>#Marvel #Rating Weapon H 12 gets 3 out of 5</td>\n",
       "      <td>02</td>\n",
       "      <td>Feb</td>\n",
       "      <td>Sat</td>\n",
       "      <td>drufause</td>\n",
       "    </tr>\n",
       "  </tbody>\n",
       "</table>\n",
       "</div>"
      ],
      "text/plain": [
       "                                                text day month weekday  \\\n",
       "0  RT @FunkoEurope: Giveaway time! 🎉 Want to win ...  02   Feb     Sat   \n",
       "1  RT @DiamondSpiderP: I just want to put this co...  02   Feb     Sat   \n",
       "2  RT @DiamondSpiderP: I just want to put this co...  02   Feb     Sat   \n",
       "3  I just want to put this concept out there agai...  02   Feb     Sat   \n",
       "4        #Marvel #Rating Weapon H 12 gets 3 out of 5  02   Feb     Sat   \n",
       "\n",
       "             user  \n",
       "0      MrsHobson3  \n",
       "1         SSPPUDD  \n",
       "2   Tanner_Slavin  \n",
       "3  DiamondSpiderP  \n",
       "4        drufause  "
      ]
     },
     "execution_count": 10,
     "metadata": {},
     "output_type": "execute_result"
    }
   ],
   "source": [
    "tweets=pd.DataFrame(data=d)\n",
    "tweets.head()"
   ]
  },
  {
   "cell_type": "code",
   "execution_count": null,
   "metadata": {},
   "outputs": [],
   "source": []
  },
  {
   "cell_type": "code",
   "execution_count": null,
   "metadata": {},
   "outputs": [],
   "source": []
  },
  {
   "cell_type": "code",
   "execution_count": null,
   "metadata": {},
   "outputs": [],
   "source": []
  },
  {
   "cell_type": "code",
   "execution_count": null,
   "metadata": {},
   "outputs": [],
   "source": []
  },
  {
   "cell_type": "code",
   "execution_count": null,
   "metadata": {},
   "outputs": [],
   "source": []
  },
  {
   "cell_type": "code",
   "execution_count": null,
   "metadata": {},
   "outputs": [],
   "source": []
  }
 ],
 "metadata": {
  "kernelspec": {
   "display_name": "Python 3",
   "language": "python",
   "name": "python3"
  },
  "language_info": {
   "codemirror_mode": {
    "name": "ipython",
    "version": 3
   },
   "file_extension": ".py",
   "mimetype": "text/x-python",
   "name": "python",
   "nbconvert_exporter": "python",
   "pygments_lexer": "ipython3",
   "version": "3.7.1"
  }
 },
 "nbformat": 4,
 "nbformat_minor": 2
}