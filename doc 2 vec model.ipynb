{
  "cells": [
    {
      "metadata": {
        "_uuid": "8f2839f25d086af736a60e9eeb907d3b93b6e0e5",
        "_cell_guid": "b1076dfc-b9ad-4769-8c92-a6c4dae69d19",
        "trusted": true
      },
      "cell_type": "code",
      "source": "import numpy as np # linear algebra\nimport pandas as pd # data processing, CSV file I/O (e.g. pd.read_csv)\nimport os\nimport gensim\nprint(os.listdir(\"../input/embeddings/GoogleNews-vectors-negative300/\"))\npath=\"../input/embeddings/GoogleNews-vectors-negative300/GoogleNews-vectors-negative300.bin\"\nembeddings=gensim.models.KeyedVectors.load_word2vec_format(path,binary=True)",
      "execution_count": 1,
      "outputs": [
        {
          "output_type": "stream",
          "text": "['GoogleNews-vectors-negative300.bin']\n",
          "name": "stdout"
        }
      ]
    },
    {
      "metadata": {
        "_cell_guid": "79c7e3d0-c299-4dcb-8224-4455121ee9b0",
        "_uuid": "d629ff2d2480ee46fbb7e2d37f6b5fab8052498a",
        "trusted": true
      },
      "cell_type": "code",
      "source": "len(embeddings['amazon'])",
      "execution_count": 2,
      "outputs": [
        {
          "output_type": "execute_result",
          "execution_count": 2,
          "data": {
            "text/plain": "300"
          },
          "metadata": {}
        }
      ]
    },
    {
      "metadata": {
        "trusted": true,
        "_uuid": "7d8147a0a7e6fced757125355875b613043a8f36"
      },
      "cell_type": "code",
      "source": "from sklearn.metrics.pairwise import cosine_similarity\ncosine_similarity([embeddings['camera'],embeddings['photo']])",
      "execution_count": 3,
      "outputs": [
        {
          "output_type": "execute_result",
          "execution_count": 3,
          "data": {
            "text/plain": "array([[1.0000002 , 0.46263507],\n       [0.46263507, 0.99999994]], dtype=float32)"
          },
          "metadata": {}
        }
      ]
    },
    {
      "metadata": {
        "trusted": true,
        "_uuid": "744c8782202553e4cd397012ea7c7bdd026c5c2c"
      },
      "cell_type": "code",
      "source": "# embeddings.most_similar('hyundai',topn=10)\n# embeddings.doesnt_match(['rahul','sonia','gandhi','sachin'])\n# embeddings.doesnt_match(['football','cricket','grape'])\nembeddings.most_similar(positive=['king','woman'],negative=['man'],topn=1)",
      "execution_count": 4,
      "outputs": [
        {
          "output_type": "execute_result",
          "execution_count": 4,
          "data": {
            "text/plain": "[('queen', 0.7118192911148071)]"
          },
          "metadata": {}
        }
      ]
    },
    {
      "metadata": {
        "trusted": true,
        "_uuid": "83aee736c3a91e3d5543b35fe4c8a0e5f7aaf49d"
      },
      "cell_type": "code",
      "source": "url='https://raw.githubusercontent.com/skathirmani/datasets/master/imdb_sentiment.csv'\nimdb=pd.read_csv(url)\nimdb.head()",
      "execution_count": 5,
      "outputs": [
        {
          "output_type": "execute_result",
          "execution_count": 5,
          "data": {
            "text/plain": "                                              review  sentiment\n0  A very, very, very slow-moving, aimless movie ...          0\n1  Not sure who was more lost - the flat characte...          0\n2  Attempting artiness with black & white and cle...          0\n3       Very little music or anything to speak of.            0\n4  The best scene in the movie was when Gerardo i...          1",
            "text/html": "<div>\n<style scoped>\n    .dataframe tbody tr th:only-of-type {\n        vertical-align: middle;\n    }\n\n    .dataframe tbody tr th {\n        vertical-align: top;\n    }\n\n    .dataframe thead th {\n        text-align: right;\n    }\n</style>\n<table border=\"1\" class=\"dataframe\">\n  <thead>\n    <tr style=\"text-align: right;\">\n      <th></th>\n      <th>review</th>\n      <th>sentiment</th>\n    </tr>\n  </thead>\n  <tbody>\n    <tr>\n      <th>0</th>\n      <td>A very, very, very slow-moving, aimless movie ...</td>\n      <td>0</td>\n    </tr>\n    <tr>\n      <th>1</th>\n      <td>Not sure who was more lost - the flat characte...</td>\n      <td>0</td>\n    </tr>\n    <tr>\n      <th>2</th>\n      <td>Attempting artiness with black &amp; white and cle...</td>\n      <td>0</td>\n    </tr>\n    <tr>\n      <th>3</th>\n      <td>Very little music or anything to speak of.</td>\n      <td>0</td>\n    </tr>\n    <tr>\n      <th>4</th>\n      <td>The best scene in the movie was when Gerardo i...</td>\n      <td>1</td>\n    </tr>\n  </tbody>\n</table>\n</div>"
          },
          "metadata": {}
        }
      ]
    },
    {
      "metadata": {
        "_uuid": "949f79ae7ffe9e24ea4dd90b0d084ddd1e493367"
      },
      "cell_type": "markdown",
      "source": "### Since sparce matrix is large dimension we need to create a vector representation of documents instead of words"
    },
    {
      "metadata": {
        "trusted": true,
        "_uuid": "4b2b38e23939e650e80a38346164af1e71b8aaec"
      },
      "cell_type": "code",
      "source": "import nltk",
      "execution_count": 6,
      "outputs": []
    },
    {
      "metadata": {
        "trusted": true,
        "_uuid": "ff9c27374c627ec4604683648005a388523c9005"
      },
      "cell_type": "code",
      "source": "stopwords=nltk.corpus.stopwords.words('english')\ndocs_vector=pd.DataFrame()\nfor doc in imdb['review'].str.lower().str.replace('[^a-z ]',''):\n    words=nltk.word_tokenize(doc)\n    words=[word for word in words if word not in stopwords]\n    temp=pd.DataFrame()\n    for word in words:\n        try:\n            word_vec=pd.Series(embeddings[word])\n            temp=temp.append(word_vec,ignore_index=True)\n        except:\n            pass\n    temp_avg=temp.mean()\n    docs_vector=docs_vector.append(temp_avg,ignore_index=True)",
      "execution_count": 7,
      "outputs": []
    },
    {
      "metadata": {
        "trusted": true,
        "_uuid": "431df2555765dd2063c386ee96e9fce855557183"
      },
      "cell_type": "code",
      "source": "docs_vector.head()",
      "execution_count": 8,
      "outputs": [
        {
          "output_type": "execute_result",
          "execution_count": 8,
          "data": {
            "text/plain": "        0         1         2      ...          297       298       299\n0  0.170980  0.169840 -0.111511    ...    -0.005147  0.044312  0.040568\n1  0.143494 -0.017984 -0.009964    ...    -0.053650  0.021364 -0.096176\n2  0.129862  0.047370 -0.014943    ...    -0.051036  0.023688  0.027690\n3  0.070648 -0.059143 -0.003357    ...    -0.071167  0.074524 -0.052612\n4  0.120809  0.007568  0.040127    ...     0.000027  0.037869  0.076067\n\n[5 rows x 300 columns]",
            "text/html": "<div>\n<style scoped>\n    .dataframe tbody tr th:only-of-type {\n        vertical-align: middle;\n    }\n\n    .dataframe tbody tr th {\n        vertical-align: top;\n    }\n\n    .dataframe thead th {\n        text-align: right;\n    }\n</style>\n<table border=\"1\" class=\"dataframe\">\n  <thead>\n    <tr style=\"text-align: right;\">\n      <th></th>\n      <th>0</th>\n      <th>1</th>\n      <th>2</th>\n      <th>3</th>\n      <th>4</th>\n      <th>5</th>\n      <th>6</th>\n      <th>7</th>\n      <th>8</th>\n      <th>9</th>\n      <th>10</th>\n      <th>11</th>\n      <th>12</th>\n      <th>13</th>\n      <th>14</th>\n      <th>15</th>\n      <th>16</th>\n      <th>17</th>\n      <th>18</th>\n      <th>19</th>\n      <th>20</th>\n      <th>21</th>\n      <th>22</th>\n      <th>23</th>\n      <th>24</th>\n      <th>25</th>\n      <th>26</th>\n      <th>27</th>\n      <th>28</th>\n      <th>29</th>\n      <th>30</th>\n      <th>31</th>\n      <th>32</th>\n      <th>33</th>\n      <th>34</th>\n      <th>35</th>\n      <th>36</th>\n      <th>37</th>\n      <th>38</th>\n      <th>39</th>\n      <th>...</th>\n      <th>260</th>\n      <th>261</th>\n      <th>262</th>\n      <th>263</th>\n      <th>264</th>\n      <th>265</th>\n      <th>266</th>\n      <th>267</th>\n      <th>268</th>\n      <th>269</th>\n      <th>270</th>\n      <th>271</th>\n      <th>272</th>\n      <th>273</th>\n      <th>274</th>\n      <th>275</th>\n      <th>276</th>\n      <th>277</th>\n      <th>278</th>\n      <th>279</th>\n      <th>280</th>\n      <th>281</th>\n      <th>282</th>\n      <th>283</th>\n      <th>284</th>\n      <th>285</th>\n      <th>286</th>\n      <th>287</th>\n      <th>288</th>\n      <th>289</th>\n      <th>290</th>\n      <th>291</th>\n      <th>292</th>\n      <th>293</th>\n      <th>294</th>\n      <th>295</th>\n      <th>296</th>\n      <th>297</th>\n      <th>298</th>\n      <th>299</th>\n    </tr>\n  </thead>\n  <tbody>\n    <tr>\n      <th>0</th>\n      <td>0.170980</td>\n      <td>0.169840</td>\n      <td>-0.111511</td>\n      <td>0.045278</td>\n      <td>-0.063273</td>\n      <td>0.021952</td>\n      <td>-0.062159</td>\n      <td>-0.018341</td>\n      <td>0.048421</td>\n      <td>0.052041</td>\n      <td>0.042328</td>\n      <td>-0.050680</td>\n      <td>-0.047974</td>\n      <td>0.056483</td>\n      <td>-0.167155</td>\n      <td>-0.086711</td>\n      <td>-0.054972</td>\n      <td>0.155884</td>\n      <td>-0.040588</td>\n      <td>-0.074300</td>\n      <td>0.064209</td>\n      <td>0.113986</td>\n      <td>-0.016048</td>\n      <td>-0.026428</td>\n      <td>0.111348</td>\n      <td>-0.032374</td>\n      <td>-0.006551</td>\n      <td>0.216349</td>\n      <td>0.228109</td>\n      <td>-0.046229</td>\n      <td>-0.020376</td>\n      <td>-0.016744</td>\n      <td>-0.031245</td>\n      <td>-0.020854</td>\n      <td>0.013041</td>\n      <td>0.046427</td>\n      <td>0.058441</td>\n      <td>-0.105367</td>\n      <td>0.010366</td>\n      <td>0.130208</td>\n      <td>...</td>\n      <td>-0.070292</td>\n      <td>-0.029043</td>\n      <td>-0.032211</td>\n      <td>-0.038025</td>\n      <td>-0.006877</td>\n      <td>0.166992</td>\n      <td>-0.087087</td>\n      <td>-0.043701</td>\n      <td>-0.091003</td>\n      <td>-0.034032</td>\n      <td>-0.142291</td>\n      <td>0.124573</td>\n      <td>0.062215</td>\n      <td>0.032410</td>\n      <td>0.004954</td>\n      <td>-0.004415</td>\n      <td>-0.058146</td>\n      <td>-0.005880</td>\n      <td>-0.045044</td>\n      <td>0.063070</td>\n      <td>-0.018799</td>\n      <td>-0.128042</td>\n      <td>0.064128</td>\n      <td>0.104614</td>\n      <td>-0.016479</td>\n      <td>0.079224</td>\n      <td>-0.117269</td>\n      <td>0.052139</td>\n      <td>0.077515</td>\n      <td>0.054382</td>\n      <td>-0.073405</td>\n      <td>0.086751</td>\n      <td>-0.090210</td>\n      <td>-0.075134</td>\n      <td>-0.072550</td>\n      <td>0.062012</td>\n      <td>0.072103</td>\n      <td>-0.005147</td>\n      <td>0.044312</td>\n      <td>0.040568</td>\n    </tr>\n    <tr>\n      <th>1</th>\n      <td>0.143494</td>\n      <td>-0.017984</td>\n      <td>-0.009964</td>\n      <td>0.106308</td>\n      <td>-0.052292</td>\n      <td>-0.075745</td>\n      <td>-0.015942</td>\n      <td>-0.037323</td>\n      <td>0.114197</td>\n      <td>0.029335</td>\n      <td>-0.003784</td>\n      <td>-0.073822</td>\n      <td>0.036469</td>\n      <td>0.065918</td>\n      <td>-0.102180</td>\n      <td>0.042419</td>\n      <td>0.084106</td>\n      <td>0.104202</td>\n      <td>0.008781</td>\n      <td>0.016678</td>\n      <td>-0.073910</td>\n      <td>0.029068</td>\n      <td>0.069580</td>\n      <td>-0.020123</td>\n      <td>0.104767</td>\n      <td>-0.059865</td>\n      <td>-0.115555</td>\n      <td>0.106262</td>\n      <td>0.039726</td>\n      <td>-0.030182</td>\n      <td>-0.165405</td>\n      <td>-0.049149</td>\n      <td>-0.125187</td>\n      <td>0.011609</td>\n      <td>0.058807</td>\n      <td>-0.049637</td>\n      <td>0.005493</td>\n      <td>0.000763</td>\n      <td>-0.068726</td>\n      <td>0.156372</td>\n      <td>...</td>\n      <td>-0.077637</td>\n      <td>-0.048020</td>\n      <td>-0.022751</td>\n      <td>0.078697</td>\n      <td>-0.027492</td>\n      <td>0.164474</td>\n      <td>0.057610</td>\n      <td>-0.035126</td>\n      <td>-0.076599</td>\n      <td>0.050873</td>\n      <td>-0.014007</td>\n      <td>0.020390</td>\n      <td>0.030361</td>\n      <td>-0.075378</td>\n      <td>0.131317</td>\n      <td>-0.044189</td>\n      <td>-0.149719</td>\n      <td>-0.022987</td>\n      <td>-0.029526</td>\n      <td>-0.013031</td>\n      <td>0.008360</td>\n      <td>-0.029116</td>\n      <td>-0.049454</td>\n      <td>0.133499</td>\n      <td>0.112343</td>\n      <td>-0.035961</td>\n      <td>-0.119406</td>\n      <td>0.032257</td>\n      <td>0.043850</td>\n      <td>0.023603</td>\n      <td>-0.080658</td>\n      <td>0.051147</td>\n      <td>-0.152344</td>\n      <td>-0.048691</td>\n      <td>-0.065536</td>\n      <td>-0.029953</td>\n      <td>0.032959</td>\n      <td>-0.053650</td>\n      <td>0.021364</td>\n      <td>-0.096176</td>\n    </tr>\n    <tr>\n      <th>2</th>\n      <td>0.129862</td>\n      <td>0.047370</td>\n      <td>-0.014943</td>\n      <td>0.006382</td>\n      <td>-0.087040</td>\n      <td>-0.003391</td>\n      <td>0.066913</td>\n      <td>0.016049</td>\n      <td>0.062988</td>\n      <td>0.037282</td>\n      <td>0.009698</td>\n      <td>-0.101617</td>\n      <td>-0.029222</td>\n      <td>-0.015354</td>\n      <td>-0.146093</td>\n      <td>0.037862</td>\n      <td>0.046577</td>\n      <td>0.098209</td>\n      <td>-0.004571</td>\n      <td>-0.089184</td>\n      <td>-0.022402</td>\n      <td>0.030077</td>\n      <td>0.047251</td>\n      <td>-0.037550</td>\n      <td>0.082318</td>\n      <td>-0.068688</td>\n      <td>-0.107069</td>\n      <td>0.109409</td>\n      <td>0.069038</td>\n      <td>0.001902</td>\n      <td>-0.037581</td>\n      <td>0.007484</td>\n      <td>0.030528</td>\n      <td>-0.004909</td>\n      <td>0.044056</td>\n      <td>0.043783</td>\n      <td>0.060629</td>\n      <td>0.001321</td>\n      <td>0.029723</td>\n      <td>0.019997</td>\n      <td>...</td>\n      <td>-0.076128</td>\n      <td>0.024412</td>\n      <td>-0.042903</td>\n      <td>-0.019151</td>\n      <td>0.050251</td>\n      <td>0.174241</td>\n      <td>-0.074519</td>\n      <td>-0.123002</td>\n      <td>-0.095108</td>\n      <td>-0.047004</td>\n      <td>0.004748</td>\n      <td>0.090578</td>\n      <td>0.029965</td>\n      <td>0.017436</td>\n      <td>0.086934</td>\n      <td>0.000882</td>\n      <td>-0.064568</td>\n      <td>-0.064304</td>\n      <td>-0.017856</td>\n      <td>0.098301</td>\n      <td>-0.003079</td>\n      <td>-0.062395</td>\n      <td>0.054640</td>\n      <td>0.028648</td>\n      <td>-0.042235</td>\n      <td>0.044403</td>\n      <td>-0.126282</td>\n      <td>-0.017722</td>\n      <td>0.008898</td>\n      <td>-0.076619</td>\n      <td>-0.115946</td>\n      <td>0.073004</td>\n      <td>-0.129066</td>\n      <td>0.035997</td>\n      <td>-0.082231</td>\n      <td>-0.017315</td>\n      <td>0.063343</td>\n      <td>-0.051036</td>\n      <td>0.023688</td>\n      <td>0.027690</td>\n    </tr>\n    <tr>\n      <th>3</th>\n      <td>0.070648</td>\n      <td>-0.059143</td>\n      <td>-0.003357</td>\n      <td>0.084737</td>\n      <td>-0.092316</td>\n      <td>0.107788</td>\n      <td>0.156372</td>\n      <td>-0.170471</td>\n      <td>0.006287</td>\n      <td>-0.007477</td>\n      <td>0.011261</td>\n      <td>-0.155518</td>\n      <td>-0.103271</td>\n      <td>0.043068</td>\n      <td>-0.077423</td>\n      <td>0.129700</td>\n      <td>0.086182</td>\n      <td>0.225586</td>\n      <td>0.098694</td>\n      <td>-0.126465</td>\n      <td>-0.036331</td>\n      <td>0.118652</td>\n      <td>0.010071</td>\n      <td>-0.095245</td>\n      <td>0.036072</td>\n      <td>0.069336</td>\n      <td>-0.080078</td>\n      <td>0.011114</td>\n      <td>0.031620</td>\n      <td>0.006650</td>\n      <td>-0.023468</td>\n      <td>0.107666</td>\n      <td>-0.121738</td>\n      <td>-0.051147</td>\n      <td>0.073364</td>\n      <td>-0.055099</td>\n      <td>0.157959</td>\n      <td>-0.013733</td>\n      <td>0.059799</td>\n      <td>0.034119</td>\n      <td>...</td>\n      <td>-0.050415</td>\n      <td>-0.023674</td>\n      <td>-0.136963</td>\n      <td>-0.063477</td>\n      <td>-0.105469</td>\n      <td>0.217285</td>\n      <td>-0.020557</td>\n      <td>-0.032013</td>\n      <td>-0.193604</td>\n      <td>-0.080750</td>\n      <td>0.049652</td>\n      <td>0.102173</td>\n      <td>0.208252</td>\n      <td>0.035278</td>\n      <td>0.086731</td>\n      <td>-0.142639</td>\n      <td>-0.062012</td>\n      <td>-0.071838</td>\n      <td>-0.023804</td>\n      <td>-0.102173</td>\n      <td>-0.015747</td>\n      <td>-0.009747</td>\n      <td>0.089417</td>\n      <td>0.077164</td>\n      <td>0.084160</td>\n      <td>0.047089</td>\n      <td>0.008484</td>\n      <td>-0.093872</td>\n      <td>-0.068604</td>\n      <td>0.142441</td>\n      <td>-0.052734</td>\n      <td>0.080322</td>\n      <td>-0.023529</td>\n      <td>0.030060</td>\n      <td>-0.011902</td>\n      <td>-0.059326</td>\n      <td>0.144897</td>\n      <td>-0.071167</td>\n      <td>0.074524</td>\n      <td>-0.052612</td>\n    </tr>\n    <tr>\n      <th>4</th>\n      <td>0.120809</td>\n      <td>0.007568</td>\n      <td>0.040127</td>\n      <td>0.048381</td>\n      <td>-0.056264</td>\n      <td>0.004886</td>\n      <td>0.024143</td>\n      <td>-0.053096</td>\n      <td>0.066806</td>\n      <td>-0.012214</td>\n      <td>0.037859</td>\n      <td>-0.098823</td>\n      <td>-0.032728</td>\n      <td>0.001539</td>\n      <td>-0.148058</td>\n      <td>0.081838</td>\n      <td>-0.031436</td>\n      <td>0.093245</td>\n      <td>-0.020969</td>\n      <td>-0.118635</td>\n      <td>0.024455</td>\n      <td>0.153320</td>\n      <td>-0.051242</td>\n      <td>-0.025713</td>\n      <td>0.024929</td>\n      <td>-0.111016</td>\n      <td>-0.051229</td>\n      <td>0.081462</td>\n      <td>0.043762</td>\n      <td>-0.051346</td>\n      <td>-0.055230</td>\n      <td>0.009820</td>\n      <td>-0.001556</td>\n      <td>0.023844</td>\n      <td>0.085300</td>\n      <td>-0.014167</td>\n      <td>0.042087</td>\n      <td>0.006429</td>\n      <td>0.050415</td>\n      <td>0.127075</td>\n      <td>...</td>\n      <td>-0.090875</td>\n      <td>0.057387</td>\n      <td>0.024984</td>\n      <td>0.048028</td>\n      <td>0.034254</td>\n      <td>0.131344</td>\n      <td>-0.027271</td>\n      <td>-0.049398</td>\n      <td>-0.088830</td>\n      <td>0.061483</td>\n      <td>-0.001966</td>\n      <td>0.093648</td>\n      <td>0.094103</td>\n      <td>0.100993</td>\n      <td>0.034740</td>\n      <td>0.011668</td>\n      <td>-0.015808</td>\n      <td>-0.157376</td>\n      <td>-0.056332</td>\n      <td>0.013950</td>\n      <td>-0.030368</td>\n      <td>-0.031494</td>\n      <td>-0.023329</td>\n      <td>0.084703</td>\n      <td>0.020335</td>\n      <td>0.044976</td>\n      <td>-0.160895</td>\n      <td>0.036072</td>\n      <td>0.090658</td>\n      <td>0.065510</td>\n      <td>-0.098731</td>\n      <td>0.089857</td>\n      <td>-0.140744</td>\n      <td>0.013428</td>\n      <td>-0.042019</td>\n      <td>-0.015290</td>\n      <td>0.079617</td>\n      <td>0.000027</td>\n      <td>0.037869</td>\n      <td>0.076067</td>\n    </tr>\n  </tbody>\n</table>\n</div>"
          },
          "metadata": {}
        }
      ]
    },
    {
      "metadata": {
        "trusted": true,
        "_uuid": "e14b46ed10a20de30bd7e4ee8d133359aaa24be2"
      },
      "cell_type": "code",
      "source": "docs_vector.isnull().sum().sum()",
      "execution_count": 9,
      "outputs": [
        {
          "output_type": "execute_result",
          "execution_count": 9,
          "data": {
            "text/plain": "600"
          },
          "metadata": {}
        }
      ]
    },
    {
      "metadata": {
        "trusted": true,
        "_uuid": "b7d1ff609e890dd2750a29f2404054be0d4baafe"
      },
      "cell_type": "code",
      "source": "docs_vector['sentiment']=imdb['sentiment']\ndocs_vector=docs_vector.dropna()",
      "execution_count": 10,
      "outputs": []
    },
    {
      "metadata": {
        "trusted": true,
        "_uuid": "914bd39c7aef5e5e70c4c9f4f99e3f1005cab149"
      },
      "cell_type": "code",
      "source": "from sklearn.ensemble import RandomForestClassifier,AdaBoostClassifier,GradientBoostingClassifier\nfrom xgboost import XGBClassifier\nfrom sklearn.model_selection import train_test_split\nfrom sklearn.metrics import accuracy_score",
      "execution_count": 11,
      "outputs": []
    },
    {
      "metadata": {
        "trusted": true,
        "_uuid": "766c5661d22289850b8a011cd0cdc79b018f2ac7"
      },
      "cell_type": "code",
      "source": "train,test=train_test_split(docs_vector,test_size=0.3,random_state=100)\ntrain_x=train.drop('sentiment',axis=1)\ntest_x=test.drop('sentiment',axis=1)\ntrain_y=train['sentiment']\ntest_y=test['sentiment']",
      "execution_count": 12,
      "outputs": []
    },
    {
      "metadata": {
        "trusted": true,
        "_uuid": "6bff74e06e809d908a83365d122e5183febf6b7c"
      },
      "cell_type": "code",
      "source": "model_ab=AdaBoostClassifier(n_estimators=300,random_state=100)\nmodel_ab.fit(train_x,train_y)\npred=model_ab.predict(test_x)\naccuracy_score(test_y,pred)",
      "execution_count": 13,
      "outputs": [
        {
          "output_type": "execute_result",
          "execution_count": 13,
          "data": {
            "text/plain": "0.8169642857142857"
          },
          "metadata": {}
        }
      ]
    },
    {
      "metadata": {
        "trusted": true,
        "_uuid": "cc48fdeb05835a0f5d54a5d9dc3715a4fcbbe6d4"
      },
      "cell_type": "code",
      "source": "model_rf=RandomForestClassifier(n_estimators=300,random_state=100)\nmodel_rf.fit(train_x,train_y)\npred=model_rf.predict(test_x)\naccuracy_score(test_y,pred)",
      "execution_count": 14,
      "outputs": [
        {
          "output_type": "execute_result",
          "execution_count": 14,
          "data": {
            "text/plain": "0.8080357142857143"
          },
          "metadata": {}
        }
      ]
    },
    {
      "metadata": {
        "trusted": true,
        "_uuid": "45c5b68db3f295f7ec232c575827fcf5443ec5e2"
      },
      "cell_type": "code",
      "source": "model_xg=XGBClassifier(learning_rate=0.43)\nmodel_xg.fit(train_x,train_y)\npred=model_xg.predict(test_x)\naccuracy_score(test_y,pred)",
      "execution_count": null,
      "outputs": []
    },
    {
      "metadata": {
        "trusted": true,
        "_uuid": "4f8098d58d1f46c154acae0cf7617187c8e490c3"
      },
      "cell_type": "code",
      "source": "model_gb=GradientBoostingClassifier(n_estimators=300,random_state=100)\nmodel_gb.fit(train_x,train_y)\npred=model_gb.predict(test_x)\naccuracy_score(test_y,pred)",
      "execution_count": null,
      "outputs": []
    },
    {
      "metadata": {
        "trusted": true,
        "_uuid": "9e34f1c8f552a16ff74c11847616c531622c48b9"
      },
      "cell_type": "code",
      "source": "",
      "execution_count": null,
      "outputs": []
    },
    {
      "metadata": {
        "trusted": true,
        "_uuid": "a12739924169eb68a0bc609206b94db9f8a9ba19"
      },
      "cell_type": "code",
      "source": "",
      "execution_count": null,
      "outputs": []
    },
    {
      "metadata": {
        "trusted": true,
        "_uuid": "08f125ef6457cb942909eb7e3c3cee4e702870f8"
      },
      "cell_type": "code",
      "source": "",
      "execution_count": null,
      "outputs": []
    },
    {
      "metadata": {
        "trusted": true,
        "_uuid": "4b4286f8fe300ac024711bcf63fc22e456e38b08"
      },
      "cell_type": "code",
      "source": "",
      "execution_count": null,
      "outputs": []
    },
    {
      "metadata": {
        "trusted": true,
        "_uuid": "1af7962d0424dd97ce4c51b370057f30a5969305"
      },
      "cell_type": "code",
      "source": "",
      "execution_count": null,
      "outputs": []
    },
    {
      "metadata": {
        "trusted": true,
        "_uuid": "efa4ff61da13bd92257b6c5671cf438c50f44b73"
      },
      "cell_type": "code",
      "source": "",
      "execution_count": null,
      "outputs": []
    },
    {
      "metadata": {
        "trusted": true,
        "_uuid": "ee5f1ee8f351eec369de70b17e8857a97f80d0b3"
      },
      "cell_type": "code",
      "source": "",
      "execution_count": null,
      "outputs": []
    },
    {
      "metadata": {
        "trusted": true,
        "_uuid": "945f3d40de464db4a5813871228968cd20033aac"
      },
      "cell_type": "code",
      "source": "",
      "execution_count": null,
      "outputs": []
    },
    {
      "metadata": {
        "trusted": true,
        "_uuid": "faaffbc0e35eb3a8892b95d2fdd4756612f5f91f"
      },
      "cell_type": "code",
      "source": "",
      "execution_count": null,
      "outputs": []
    },
    {
      "metadata": {
        "trusted": true,
        "_uuid": "e62053d71eff3fdf8feb8606899593d7eccaa6af"
      },
      "cell_type": "code",
      "source": "",
      "execution_count": null,
      "outputs": []
    },
    {
      "metadata": {
        "trusted": true,
        "_uuid": "40b8ea48a7127be78c9528d061166bea6ecb5c36"
      },
      "cell_type": "code",
      "source": "",
      "execution_count": null,
      "outputs": []
    },
    {
      "metadata": {
        "trusted": true,
        "_uuid": "6080fb0382c50c7378f46cc24f0e2beb0c45348c"
      },
      "cell_type": "code",
      "source": "",
      "execution_count": null,
      "outputs": []
    },
    {
      "metadata": {
        "trusted": true,
        "_uuid": "ae04dec303a1af9969ee33e46f29df20838a1fea"
      },
      "cell_type": "code",
      "source": "",
      "execution_count": null,
      "outputs": []
    },
    {
      "metadata": {
        "trusted": true,
        "_uuid": "ea23ed84b510f5d4a85414681e9b895e6f80bd4e"
      },
      "cell_type": "code",
      "source": "",
      "execution_count": null,
      "outputs": []
    },
    {
      "metadata": {
        "trusted": true,
        "_uuid": "d728c3ccd5763de8bc3ecd046ad4ea9080013831"
      },
      "cell_type": "code",
      "source": "",
      "execution_count": null,
      "outputs": []
    },
    {
      "metadata": {
        "trusted": true,
        "_uuid": "4d37f91c041d9b7780b18b3481dbb6945bc421cc"
      },
      "cell_type": "code",
      "source": "",
      "execution_count": null,
      "outputs": []
    },
    {
      "metadata": {
        "trusted": true,
        "_uuid": "cfba79d4240ecea3ca30ebdf27dcf3911e4de9af"
      },
      "cell_type": "code",
      "source": "",
      "execution_count": null,
      "outputs": []
    },
    {
      "metadata": {
        "trusted": true,
        "_uuid": "076d2015848db2f91636482a9ed9d1689dceaea5"
      },
      "cell_type": "code",
      "source": "",
      "execution_count": null,
      "outputs": []
    }
  ],
  "metadata": {
    "kernelspec": {
      "display_name": "Python 3",
      "language": "python",
      "name": "python3"
    },
    "language_info": {
      "name": "python",
      "version": "3.6.6",
      "mimetype": "text/x-python",
      "codemirror_mode": {
        "name": "ipython",
        "version": 3
      },
      "pygments_lexer": "ipython3",
      "nbconvert_exporter": "python",
      "file_extension": ".py"
    }
  },
  "nbformat": 4,
  "nbformat_minor": 1
}